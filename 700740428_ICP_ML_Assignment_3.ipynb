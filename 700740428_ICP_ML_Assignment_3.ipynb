{
  "nbformat": 4,
  "nbformat_minor": 0,
  "metadata": {
    "colab": {
      "provenance": []
    },
    "kernelspec": {
      "name": "python3",
      "display_name": "Python 3"
    },
    "language_info": {
      "name": "python"
    }
  },
  "cells": [
    {
      "cell_type": "code",
      "execution_count": 1,
      "metadata": {
        "id": "tIpopjli5PTi"
      },
      "outputs": [],
      "source": [
        "import numpy as np # importing numpy as np"
      ]
    },
    {
      "cell_type": "markdown",
      "source": [
        "Using NumPy create random vector of size 15 having only Integers in the range 1-20.\n"
      ],
      "metadata": {
        "id": "oooBgH8p79RD"
      }
    },
    {
      "cell_type": "code",
      "source": [
        "data = np.random.randint(1, 13,15) # creating a numpy array with random integers from 1 to 12 and with size 15\n",
        "data"
      ],
      "metadata": {
        "colab": {
          "base_uri": "https://localhost:8080/"
        },
        "id": "n6rqMHn65jgS",
        "outputId": "42b68c67-a546-4ffe-dbe3-8e63f6d326b9"
      },
      "execution_count": 57,
      "outputs": [
        {
          "output_type": "execute_result",
          "data": {
            "text/plain": [
              "array([ 4,  9,  8,  7, 11,  4,  2,  6,  5, 10, 11,  8,  4,  9, 12])"
            ]
          },
          "metadata": {},
          "execution_count": 57
        }
      ]
    },
    {
      "cell_type": "markdown",
      "source": [
        "Reshape the array to 3 by 5"
      ],
      "metadata": {
        "id": "sB8UOJrL8BF9"
      }
    },
    {
      "cell_type": "code",
      "source": [
        "data = data.reshape(3,5) # reshaping the numpy array with the size 3*5 \n",
        "data"
      ],
      "metadata": {
        "colab": {
          "base_uri": "https://localhost:8080/"
        },
        "id": "gP62UV1p8C2a",
        "outputId": "9ebf2c1d-8520-4c88-8157-0f0281f24aca"
      },
      "execution_count": 58,
      "outputs": [
        {
          "output_type": "execute_result",
          "data": {
            "text/plain": [
              "array([[ 4,  9,  8,  7, 11],\n",
              "       [ 4,  2,  6,  5, 10],\n",
              "       [11,  8,  4,  9, 12]])"
            ]
          },
          "metadata": {},
          "execution_count": 58
        }
      ]
    },
    {
      "cell_type": "markdown",
      "source": [
        "print  shape of the array"
      ],
      "metadata": {
        "id": "Pm6dBY7N8UTC"
      }
    },
    {
      "cell_type": "code",
      "source": [
        "print(data.shape) # printing the shape of the numpy array"
      ],
      "metadata": {
        "colab": {
          "base_uri": "https://localhost:8080/"
        },
        "id": "rnaTAmlY8bkw",
        "outputId": "8e02c28a-f86d-44a9-c86d-92fad74a8d01"
      },
      "execution_count": 59,
      "outputs": [
        {
          "output_type": "stream",
          "name": "stdout",
          "text": [
            "(3, 5)\n"
          ]
        }
      ]
    },
    {
      "cell_type": "markdown",
      "source": [
        "Replace the max in each row by 0"
      ],
      "metadata": {
        "id": "X9WSn2a38iTI"
      }
    },
    {
      "cell_type": "code",
      "source": [
        "max_ind = np.argmax(data, axis=1) # using argmax taking the indexes of the max values in each row by giving axis = 1 \n",
        "row_ind = np.arange(data.shape[0]) # getting the row index of the numpy array\n",
        "multi_ind = np.array([row_ind, max_ind]) # getting an 2d array of max valued index and the row index\n",
        "linear_ind = np.ravel_multi_index(multi_ind, data.shape) # Converts a tuple of index arrays into an array of flat indices\n",
        "data.reshape((-1))[linear_ind] = 0 #replacing the max values in each row to 0\n",
        "data # printing the numpy array"
      ],
      "metadata": {
        "colab": {
          "base_uri": "https://localhost:8080/"
        },
        "id": "wJOpESga8kT1",
        "outputId": "4bfbeacb-b596-4d43-989c-418ac4f272f8"
      },
      "execution_count": 67,
      "outputs": [
        {
          "output_type": "execute_result",
          "data": {
            "text/plain": [
              "array([[4, 9, 8, 7, 0],\n",
              "       [4, 2, 6, 5, 0],\n",
              "       [0, 8, 4, 9, 0]])"
            ]
          },
          "metadata": {},
          "execution_count": 67
        }
      ]
    },
    {
      "cell_type": "markdown",
      "source": [
        "Create a 2-dimensional array of size 4 x 3 (composed of 4-byte integer elements), also print the shape, type and data type\n",
        "of the array"
      ],
      "metadata": {
        "id": "Oh1UnIcK_Ala"
      }
    },
    {
      "cell_type": "code",
      "source": [
        "arr = np.random.randint(1, 13,(4,3),dtype = 'int32') # creating an numpy array with integers from 1 to 12 with datatype as 4 byte int and with shape 4*3\n",
        "print(arr) # printing the numpy array\n",
        "print('Shape of the array is {}'.format(str(arr.shape))) # Printing the shape of the array\n",
        "print('Data type of the array is {}'.format(str(arr.dtype))) # printing the datatyp of array elements"
      ],
      "metadata": {
        "colab": {
          "base_uri": "https://localhost:8080/"
        },
        "id": "8Wk2w-_3_FdJ",
        "outputId": "7802bc3e-886d-49b3-a85f-6281d7599e57"
      },
      "execution_count": 25,
      "outputs": [
        {
          "output_type": "stream",
          "name": "stdout",
          "text": [
            "[[ 1  7 11]\n",
            " [ 1  4 11]\n",
            " [ 6  9  9]\n",
            " [ 1  5  8]]\n",
            "Shape of the array is (4, 3)\n",
            "Data type of the array is int32\n"
          ]
        }
      ]
    },
    {
      "cell_type": "markdown",
      "source": [
        "Write a program to compute the eigenvalues and right eigenvectors of a given square array given below:\n",
        "[[ 3 -2]\n",
        "[ 1 0]]"
      ],
      "metadata": {
        "id": "fWbq-xfo_pw5"
      }
    },
    {
      "cell_type": "code",
      "source": [
        "eigen = np.array([[3,-2],  \n",
        "              [1,0]]) # creating the given numpy array \n",
        "eigen_values, eigen_vectors = np.linalg.eig(eigen) # getting the eigen values and eigen vectors of the the given numpy array \n",
        "\n",
        "print(\"Eigen values of the given array:\\n\",eigen_values) # printing the eigen values\n",
        "\n",
        "print(\"Right eigen vectors of the given array:\\n\",eigen_vectors) # printing the eigen vectors"
      ],
      "metadata": {
        "colab": {
          "base_uri": "https://localhost:8080/"
        },
        "id": "pWIVOvR-AS1b",
        "outputId": "6feaf36c-5a45-4adf-a1f1-bca0f9cc5758"
      },
      "execution_count": 28,
      "outputs": [
        {
          "output_type": "stream",
          "name": "stdout",
          "text": [
            "Eigen values of the given array:\n",
            " [2. 1.]\n",
            "Right eigenvectors of the given array:\n",
            " [[0.89442719 0.70710678]\n",
            " [0.4472136  0.70710678]]\n"
          ]
        }
      ]
    },
    {
      "cell_type": "markdown",
      "source": [
        "Compute the sum of the diagonal element of a given array.\n",
        "[[0 1 2]\n",
        "[3 4 5]]\n"
      ],
      "metadata": {
        "id": "CQVR5ePOBJ2G"
      }
    },
    {
      "cell_type": "code",
      "source": [
        "diag = np.array([[0,1,2],\n",
        "               [3 ,4 ,5]]) # creating the given numpy array\n",
        "trace = np.trace(diag) # getting the sum of the diagnol elements\n",
        "print(diag)  #printing the numpy array \n",
        "print(trace) # printing the sum of the diagnol elemnts of the numpy array"
      ],
      "metadata": {
        "colab": {
          "base_uri": "https://localhost:8080/"
        },
        "id": "pSK6i91gBM7j",
        "outputId": "3eecacc7-d90d-4e01-b493-59b95ff38ac5"
      },
      "execution_count": 32,
      "outputs": [
        {
          "output_type": "stream",
          "name": "stdout",
          "text": [
            "[[0 1 2]\n",
            " [3 4 5]]\n",
            "4\n"
          ]
        }
      ]
    },
    {
      "cell_type": "markdown",
      "source": [
        "Write a NumPy program to create a new shape to an array without changing its data. "
      ],
      "metadata": {
        "id": "m4-kv_fDCCJ6"
      }
    },
    {
      "cell_type": "code",
      "source": [
        "resh = np.arange(1,7) # creating an 1d numpy array with values 1 to 6\n",
        "resh # printing the numpy array"
      ],
      "metadata": {
        "colab": {
          "base_uri": "https://localhost:8080/"
        },
        "id": "02pP02NZCBjO",
        "outputId": "c3d52d9a-bbd8-4072-a505-17dd4c959eae"
      },
      "execution_count": 37,
      "outputs": [
        {
          "output_type": "execute_result",
          "data": {
            "text/plain": [
              "array([1, 2, 3, 4, 5, 6])"
            ]
          },
          "metadata": {},
          "execution_count": 37
        }
      ]
    },
    {
      "cell_type": "markdown",
      "source": [
        "Reshape 3x2:\n",
        "[[1 2]\n",
        "[3 4]\n",
        "[5 6]]"
      ],
      "metadata": {
        "id": "lLAOWxJRCfVr"
      }
    },
    {
      "cell_type": "code",
      "source": [
        "resh = resh.reshape(3,2) # reshaping it to the size 3*2\n",
        "resh # printing the numpy array"
      ],
      "metadata": {
        "colab": {
          "base_uri": "https://localhost:8080/"
        },
        "id": "2eacMS9gCgB6",
        "outputId": "84d8f7a4-5707-48f2-ff2a-23064bbc4fae"
      },
      "execution_count": 39,
      "outputs": [
        {
          "output_type": "execute_result",
          "data": {
            "text/plain": [
              "array([[1, 2],\n",
              "       [3, 4],\n",
              "       [5, 6]])"
            ]
          },
          "metadata": {},
          "execution_count": 39
        }
      ]
    },
    {
      "cell_type": "markdown",
      "source": [
        "Reshape 2x3:\n",
        "[[1 2 3]\n",
        "[4 5 6]]"
      ],
      "metadata": {
        "id": "KQaGUQScCs07"
      }
    },
    {
      "cell_type": "code",
      "source": [
        "resh = resh.reshape(2,3)  # reshaping it to the size 3*2\n",
        "resh # printing the numpy array"
      ],
      "metadata": {
        "colab": {
          "base_uri": "https://localhost:8080/"
        },
        "id": "L0Qp_aDHCtlJ",
        "outputId": "f386c1bc-a612-41dd-e66b-acfee7a548ae"
      },
      "execution_count": 40,
      "outputs": [
        {
          "output_type": "execute_result",
          "data": {
            "text/plain": [
              "array([[1, 2, 3],\n",
              "       [4, 5, 6]])"
            ]
          },
          "metadata": {},
          "execution_count": 40
        }
      ]
    },
    {
      "cell_type": "markdown",
      "source": [
        "Write a Python programming to create a below chart of the popularity of programming Languages. "
      ],
      "metadata": {
        "id": "_4cG0T7fDCVQ"
      }
    },
    {
      "cell_type": "code",
      "source": [
        "from matplotlib import pyplot as plt # importing the pyplot functionality from matplotlib library\n"
      ],
      "metadata": {
        "id": "60iE-6YrDDCR"
      },
      "execution_count": 41,
      "outputs": []
    },
    {
      "cell_type": "code",
      "source": [
        "languages = ['Java', 'Python', 'PHP',\n",
        "        'JavaScript', 'C#', 'C++'] # creating a list of labels \n",
        " \n",
        "\n",
        "popularity = [22.2, 17.6, 8.8, 8, 7.7, 6.7] # creting a list of values \n",
        "\n",
        "explode = (0.1, 0, 0, 0,0,0) # creating a tuple to create partition in the pie chart\n",
        "fig, ax = plt.subplots() # Creating the pie chart\n",
        "ax.pie(popularity, explode=explode,labels=languages, autopct='%1.1f%%',shadow=True, startangle=90) # creating the pie chart and giving arguments to it for labelling, placing percentage , slicing it \n",
        "\n",
        "plt.show()"
      ],
      "metadata": {
        "colab": {
          "base_uri": "https://localhost:8080/",
          "height": 248
        },
        "id": "bKobqe76DE46",
        "outputId": "a102dcbc-8862-4bf6-eeeb-c6c993a1b6ed"
      },
      "execution_count": 54,
      "outputs": [
        {
          "output_type": "display_data",
          "data": {
            "text/plain": [
              "<Figure size 432x288 with 1 Axes>"
            ],
            "image/png": "[encoded data removed]"
          },
          "metadata": {}
        }
      ]
    }
  ]
}